{
 "cells": [
  {
   "cell_type": "code",
   "execution_count": 2,
   "id": "41bbddd9",
   "metadata": {},
   "outputs": [
    {
     "name": "stdout",
     "output_type": "stream",
     "text": [
      "9 0 0 0 2 0 7 5 0\n",
      "6 0 0 0 5 0 0 4 0\n",
      "0 2 0 4 0 0 0 1 0\n",
      "2 0 8 0 0 0 0 0 0\n",
      "0 7 0 5 0 9 0 6 0\n",
      "0 0 0 0 0 0 4 0 1\n",
      "0 1 0 0 0 5 0 8 0\n",
      "0 9 0 0 7 0 0 0 4\n",
      "0 8 2 0 4 0 0 0 6\n",
      "true\n"
     ]
    }
   ],
   "source": [
    "def isSafe(row,col,ele,b):\n",
    "    for i in range(0,9,):\n",
    "        if i==col:\n",
    "            continue\n",
    "        if b[row][i]==ele:\n",
    "            return False\n",
    "    \n",
    "    for i in range(0,9,):\n",
    "        if i==row:\n",
    "            continue\n",
    "        if b[i][col]==ele:\n",
    "            return False\n",
    "    for i in range((row//3)*3,(row//3)*3+3,):\n",
    "        for j in range((col//3)*3,(col//3)*3+3,):\n",
    "            if i==row and j==col:\n",
    "                continue\n",
    "            if b[i][j]==ele:\n",
    "                return False\n",
    "    \n",
    "    return True\n",
    "    \n",
    "def solveSudoku(board):\n",
    "    c=True\n",
    "    for i in range(0,9,):\n",
    "        for j in range(0,9,):\n",
    "            if board[i][j]!=0:\n",
    "                c=isSafe(i,j,board[i][j],board)\n",
    "            if c==False:\n",
    "                break\n",
    "        if c==False:\n",
    "            break\n",
    "    return c\n",
    "\n",
    "board = [[ int(ele) for ele in input().split() ]for i in range(9)]\n",
    "ans = solveSudoku(board)\n",
    "if ans is True:\n",
    "    print('true')\n",
    "else:\n",
    "    print('false')\n",
    "\n",
    "#input format\n",
    "#9 0 0 0 2 0 7 5 0\n",
    "#6 0 0 0 5 0 0 4 0\n",
    "#0 2 0 4 0 0 0 1 0\n",
    "#2 0 8 0 0 0 0 0 0\n",
    "#0 7 0 5 0 9 0 6 0\n",
    "#0 0 0 0 0 0 4 0 1\n",
    "#0 1 0 0 0 5 0 8 0\n",
    "#0 9 0 0 7 0 0 0 4\n",
    "#0 8 2 0 4 0 0 0 6"
   ]
  },
  {
   "cell_type": "code",
   "execution_count": null,
   "id": "ac4195aa",
   "metadata": {},
   "outputs": [],
   "source": []
  }
 ],
 "metadata": {
  "kernelspec": {
   "display_name": "Python 3 (ipykernel)",
   "language": "python",
   "name": "python3"
  },
  "language_info": {
   "codemirror_mode": {
    "name": "ipython",
    "version": 3
   },
   "file_extension": ".py",
   "mimetype": "text/x-python",
   "name": "python",
   "nbconvert_exporter": "python",
   "pygments_lexer": "ipython3",
   "version": "3.9.7"
  }
 },
 "nbformat": 4,
 "nbformat_minor": 5
}
